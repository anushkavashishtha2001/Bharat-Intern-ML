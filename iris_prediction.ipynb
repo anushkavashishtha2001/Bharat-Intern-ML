{
  "nbformat": 4,
  "nbformat_minor": 0,
  "metadata": {
    "colab": {
      "provenance": [],
      "authorship_tag": "ABX9TyPYrEu6uDs/tlkT/wAS6r5P",
      "include_colab_link": true
    },
    "kernelspec": {
      "name": "python3",
      "display_name": "Python 3"
    },
    "language_info": {
      "name": "python"
    }
  },
  "cells": [
    {
      "cell_type": "markdown",
      "metadata": {
        "id": "view-in-github",
        "colab_type": "text"
      },
      "source": [
        "<a href=\"https://colab.research.google.com/github/anushkavashishtha2001/Bharat-Intern-ML/blob/main/iris_prediction.ipynb\" target=\"_parent\"><img src=\"https://colab.research.google.com/assets/colab-badge.svg\" alt=\"Open In Colab\"/></a>"
      ]
    },
    {
      "cell_type": "code",
      "execution_count": 2,
      "metadata": {
        "id": "bsYiLnBsunSK"
      },
      "outputs": [],
      "source": [
        "# Import necessary libraries\n",
        "import pandas as pd\n",
        "from sklearn.datasets import load_iris\n",
        "from sklearn.model_selection import train_test_split\n",
        "from sklearn.preprocessing import StandardScaler\n",
        "from sklearn.linear_model import LogisticRegression\n",
        "from sklearn.metrics import accuracy_score, classification_report, confusion_matrix\n",
        "import tensorflow as tf\n",
        "from tensorflow.keras.models import Sequential\n",
        "from tensorflow.keras.layers import Dense\n"
      ]
    },
    {
      "cell_type": "code",
      "source": [
        "# Load iris dataset\n",
        "iris = load_iris()\n",
        "df = pd.DataFrame(data=iris.data, columns=iris.feature_names)\n",
        "df['target'] = iris.target\n",
        "\n",
        "# Split dataset into training and testing sets\n",
        "X_train, X_test, y_train, y_test = train_test_split(df.drop('target', axis=1), df['target'], test_size=0.2, random_state=42)"
      ],
      "metadata": {
        "id": "32fjkB1puqn2"
      },
      "execution_count": 3,
      "outputs": []
    },
    {
      "cell_type": "code",
      "source": [
        "# Standardize features\n",
        "scaler = StandardScaler()\n",
        "X_train = scaler.fit_transform(X_train)\n",
        "X_test = scaler.transform(X_test)"
      ],
      "metadata": {
        "id": "YshXFec_vD8D"
      },
      "execution_count": 4,
      "outputs": []
    },
    {
      "cell_type": "code",
      "source": [
        "\n",
        "# Train logistic regression model\n",
        "print(\"Logistic Regression Model:\")\n",
        "model_lr = LogisticRegression(max_iter=1000)\n",
        "model_lr.fit(X_train, y_train)\n",
        "y_pred_lr = model_lr.predict(X_test)\n",
        "print(\"Accuracy:\", accuracy_score(y_test, y_pred_lr))\n",
        "print(\"Classification Report:\\n\", classification_report(y_test, y_pred_lr))\n",
        "print(\"Confusion Matrix:\\n\", confusion_matrix(y_test, y_pred_lr))"
      ],
      "metadata": {
        "colab": {
          "base_uri": "https://localhost:8080/"
        },
        "id": "wZXXkcS4vEvF",
        "outputId": "f01621ea-f070-4e66-a6b0-1357bbf70e3f"
      },
      "execution_count": 5,
      "outputs": [
        {
          "output_type": "stream",
          "name": "stdout",
          "text": [
            "Logistic Regression Model:\n",
            "Accuracy: 1.0\n",
            "Classification Report:\n",
            "               precision    recall  f1-score   support\n",
            "\n",
            "           0       1.00      1.00      1.00        10\n",
            "           1       1.00      1.00      1.00         9\n",
            "           2       1.00      1.00      1.00        11\n",
            "\n",
            "    accuracy                           1.00        30\n",
            "   macro avg       1.00      1.00      1.00        30\n",
            "weighted avg       1.00      1.00      1.00        30\n",
            "\n",
            "Confusion Matrix:\n",
            " [[10  0  0]\n",
            " [ 0  9  0]\n",
            " [ 0  0 11]]\n"
          ]
        }
      ]
    },
    {
      "cell_type": "code",
      "source": [
        "# Train neural network model using TensorFlow\n",
        "print(\"\\nNeural Network Model:\")\n",
        "model_nn = Sequential([\n",
        "    Dense(64, activation='relu', input_shape=(4,)),\n",
        "    Dense(32, activation='relu'),\n",
        "    Dense(3, activation='softmax')\n",
        "])"
      ],
      "metadata": {
        "colab": {
          "base_uri": "https://localhost:8080/"
        },
        "id": "EdnGmBYNvIAX",
        "outputId": "dde10d62-a73d-4e04-b994-208f6a3e1b92"
      },
      "execution_count": 6,
      "outputs": [
        {
          "output_type": "stream",
          "name": "stdout",
          "text": [
            "\n",
            "Neural Network Model:\n"
          ]
        }
      ]
    },
    {
      "cell_type": "code",
      "source": [
        "model_nn.compile(optimizer='adam', loss='sparse_categorical_crossentropy', metrics=['accuracy'])\n",
        "model_nn.fit(X_train, y_train, epochs=100, batch_size=32, validation_data=(X_test, y_test))\n",
        "loss, accuracy = model_nn.evaluate(X_test, y_test)\n",
        "print(\"Accuracy:\", accuracy)"
      ],
      "metadata": {
        "colab": {
          "base_uri": "https://localhost:8080/"
        },
        "id": "2w4Yj10lvNTA",
        "outputId": "87e487af-8257-4bd4-a0e7-746469498b62"
      },
      "execution_count": 7,
      "outputs": [
        {
          "output_type": "stream",
          "name": "stdout",
          "text": [
            "Epoch 1/100\n",
            "4/4 [==============================] - 2s 125ms/step - loss: 1.1459 - accuracy: 0.3250 - val_loss: 1.0318 - val_accuracy: 0.3667\n",
            "Epoch 2/100\n",
            "4/4 [==============================] - 0s 24ms/step - loss: 1.0342 - accuracy: 0.3250 - val_loss: 0.9367 - val_accuracy: 0.3667\n",
            "Epoch 3/100\n",
            "4/4 [==============================] - 0s 26ms/step - loss: 0.9415 - accuracy: 0.3583 - val_loss: 0.8569 - val_accuracy: 0.4333\n",
            "Epoch 4/100\n",
            "4/4 [==============================] - 0s 26ms/step - loss: 0.8669 - accuracy: 0.6250 - val_loss: 0.7902 - val_accuracy: 0.7333\n",
            "Epoch 5/100\n",
            "4/4 [==============================] - 0s 25ms/step - loss: 0.8082 - accuracy: 0.7333 - val_loss: 0.7354 - val_accuracy: 0.7667\n",
            "Epoch 6/100\n",
            "4/4 [==============================] - 0s 24ms/step - loss: 0.7560 - accuracy: 0.7750 - val_loss: 0.6862 - val_accuracy: 0.7667\n",
            "Epoch 7/100\n",
            "4/4 [==============================] - 0s 26ms/step - loss: 0.7121 - accuracy: 0.7833 - val_loss: 0.6416 - val_accuracy: 0.8000\n",
            "Epoch 8/100\n",
            "4/4 [==============================] - 0s 26ms/step - loss: 0.6705 - accuracy: 0.8083 - val_loss: 0.6007 - val_accuracy: 0.8000\n",
            "Epoch 9/100\n",
            "4/4 [==============================] - 0s 26ms/step - loss: 0.6325 - accuracy: 0.8167 - val_loss: 0.5638 - val_accuracy: 0.8333\n",
            "Epoch 10/100\n",
            "4/4 [==============================] - 0s 27ms/step - loss: 0.5994 - accuracy: 0.8167 - val_loss: 0.5276 - val_accuracy: 0.8333\n",
            "Epoch 11/100\n",
            "4/4 [==============================] - 0s 24ms/step - loss: 0.5650 - accuracy: 0.8167 - val_loss: 0.4931 - val_accuracy: 0.8333\n",
            "Epoch 12/100\n",
            "4/4 [==============================] - 0s 32ms/step - loss: 0.5328 - accuracy: 0.8250 - val_loss: 0.4601 - val_accuracy: 0.8333\n",
            "Epoch 13/100\n",
            "4/4 [==============================] - 0s 28ms/step - loss: 0.5019 - accuracy: 0.8333 - val_loss: 0.4291 - val_accuracy: 0.8667\n",
            "Epoch 14/100\n",
            "4/4 [==============================] - 0s 26ms/step - loss: 0.4733 - accuracy: 0.8250 - val_loss: 0.3999 - val_accuracy: 0.9000\n",
            "Epoch 15/100\n",
            "4/4 [==============================] - 0s 25ms/step - loss: 0.4465 - accuracy: 0.8333 - val_loss: 0.3729 - val_accuracy: 0.9000\n",
            "Epoch 16/100\n",
            "4/4 [==============================] - 0s 26ms/step - loss: 0.4211 - accuracy: 0.8583 - val_loss: 0.3486 - val_accuracy: 0.9000\n",
            "Epoch 17/100\n",
            "4/4 [==============================] - 0s 26ms/step - loss: 0.3976 - accuracy: 0.8583 - val_loss: 0.3259 - val_accuracy: 0.9000\n",
            "Epoch 18/100\n",
            "4/4 [==============================] - 0s 25ms/step - loss: 0.3754 - accuracy: 0.8667 - val_loss: 0.3056 - val_accuracy: 0.9333\n",
            "Epoch 19/100\n",
            "4/4 [==============================] - 0s 23ms/step - loss: 0.3568 - accuracy: 0.8667 - val_loss: 0.2881 - val_accuracy: 0.9333\n",
            "Epoch 20/100\n",
            "4/4 [==============================] - 0s 27ms/step - loss: 0.3384 - accuracy: 0.8917 - val_loss: 0.2711 - val_accuracy: 0.9333\n",
            "Epoch 21/100\n",
            "4/4 [==============================] - 0s 25ms/step - loss: 0.3226 - accuracy: 0.9000 - val_loss: 0.2565 - val_accuracy: 0.9333\n",
            "Epoch 22/100\n",
            "4/4 [==============================] - 0s 33ms/step - loss: 0.3084 - accuracy: 0.9000 - val_loss: 0.2425 - val_accuracy: 0.9333\n",
            "Epoch 23/100\n",
            "4/4 [==============================] - 0s 31ms/step - loss: 0.2950 - accuracy: 0.9000 - val_loss: 0.2303 - val_accuracy: 0.9333\n",
            "Epoch 24/100\n",
            "4/4 [==============================] - 0s 25ms/step - loss: 0.2815 - accuracy: 0.9000 - val_loss: 0.2200 - val_accuracy: 0.9333\n",
            "Epoch 25/100\n",
            "4/4 [==============================] - 0s 28ms/step - loss: 0.2711 - accuracy: 0.9000 - val_loss: 0.2110 - val_accuracy: 0.9333\n",
            "Epoch 26/100\n",
            "4/4 [==============================] - 0s 25ms/step - loss: 0.2594 - accuracy: 0.9083 - val_loss: 0.2021 - val_accuracy: 0.9333\n",
            "Epoch 27/100\n",
            "4/4 [==============================] - 0s 24ms/step - loss: 0.2509 - accuracy: 0.9250 - val_loss: 0.1931 - val_accuracy: 0.9333\n",
            "Epoch 28/100\n",
            "4/4 [==============================] - 0s 25ms/step - loss: 0.2408 - accuracy: 0.9500 - val_loss: 0.1856 - val_accuracy: 0.9333\n",
            "Epoch 29/100\n",
            "4/4 [==============================] - 0s 29ms/step - loss: 0.2316 - accuracy: 0.9500 - val_loss: 0.1790 - val_accuracy: 0.9333\n",
            "Epoch 30/100\n",
            "4/4 [==============================] - 0s 30ms/step - loss: 0.2239 - accuracy: 0.9583 - val_loss: 0.1720 - val_accuracy: 0.9333\n",
            "Epoch 31/100\n",
            "4/4 [==============================] - 0s 32ms/step - loss: 0.2158 - accuracy: 0.9583 - val_loss: 0.1650 - val_accuracy: 0.9333\n",
            "Epoch 32/100\n",
            "4/4 [==============================] - 0s 29ms/step - loss: 0.2087 - accuracy: 0.9583 - val_loss: 0.1577 - val_accuracy: 0.9333\n",
            "Epoch 33/100\n",
            "4/4 [==============================] - 0s 29ms/step - loss: 0.2019 - accuracy: 0.9583 - val_loss: 0.1516 - val_accuracy: 0.9333\n",
            "Epoch 34/100\n",
            "4/4 [==============================] - 0s 31ms/step - loss: 0.1947 - accuracy: 0.9583 - val_loss: 0.1468 - val_accuracy: 0.9333\n",
            "Epoch 35/100\n",
            "4/4 [==============================] - 0s 37ms/step - loss: 0.1885 - accuracy: 0.9583 - val_loss: 0.1428 - val_accuracy: 0.9333\n",
            "Epoch 36/100\n",
            "4/4 [==============================] - 0s 20ms/step - loss: 0.1828 - accuracy: 0.9583 - val_loss: 0.1381 - val_accuracy: 0.9333\n",
            "Epoch 37/100\n",
            "4/4 [==============================] - 0s 21ms/step - loss: 0.1767 - accuracy: 0.9583 - val_loss: 0.1322 - val_accuracy: 0.9667\n",
            "Epoch 38/100\n",
            "4/4 [==============================] - 0s 21ms/step - loss: 0.1715 - accuracy: 0.9583 - val_loss: 0.1275 - val_accuracy: 1.0000\n",
            "Epoch 39/100\n",
            "4/4 [==============================] - 0s 23ms/step - loss: 0.1659 - accuracy: 0.9583 - val_loss: 0.1241 - val_accuracy: 1.0000\n",
            "Epoch 40/100\n",
            "4/4 [==============================] - 0s 26ms/step - loss: 0.1609 - accuracy: 0.9583 - val_loss: 0.1185 - val_accuracy: 1.0000\n",
            "Epoch 41/100\n",
            "4/4 [==============================] - 0s 46ms/step - loss: 0.1558 - accuracy: 0.9583 - val_loss: 0.1146 - val_accuracy: 1.0000\n",
            "Epoch 42/100\n",
            "4/4 [==============================] - 0s 54ms/step - loss: 0.1511 - accuracy: 0.9583 - val_loss: 0.1112 - val_accuracy: 1.0000\n",
            "Epoch 43/100\n",
            "4/4 [==============================] - 0s 69ms/step - loss: 0.1463 - accuracy: 0.9583 - val_loss: 0.1070 - val_accuracy: 1.0000\n",
            "Epoch 44/100\n",
            "4/4 [==============================] - 0s 29ms/step - loss: 0.1424 - accuracy: 0.9583 - val_loss: 0.1031 - val_accuracy: 1.0000\n",
            "Epoch 45/100\n",
            "4/4 [==============================] - 0s 41ms/step - loss: 0.1379 - accuracy: 0.9583 - val_loss: 0.1005 - val_accuracy: 1.0000\n",
            "Epoch 46/100\n",
            "4/4 [==============================] - 0s 53ms/step - loss: 0.1344 - accuracy: 0.9583 - val_loss: 0.0972 - val_accuracy: 1.0000\n",
            "Epoch 47/100\n",
            "4/4 [==============================] - 0s 58ms/step - loss: 0.1304 - accuracy: 0.9583 - val_loss: 0.0958 - val_accuracy: 1.0000\n",
            "Epoch 48/100\n",
            "4/4 [==============================] - 0s 17ms/step - loss: 0.1269 - accuracy: 0.9583 - val_loss: 0.0930 - val_accuracy: 1.0000\n",
            "Epoch 49/100\n",
            "4/4 [==============================] - 0s 17ms/step - loss: 0.1230 - accuracy: 0.9583 - val_loss: 0.0900 - val_accuracy: 1.0000\n",
            "Epoch 50/100\n",
            "4/4 [==============================] - 0s 21ms/step - loss: 0.1202 - accuracy: 0.9583 - val_loss: 0.0875 - val_accuracy: 1.0000\n",
            "Epoch 51/100\n",
            "4/4 [==============================] - 0s 17ms/step - loss: 0.1163 - accuracy: 0.9583 - val_loss: 0.0851 - val_accuracy: 1.0000\n",
            "Epoch 52/100\n",
            "4/4 [==============================] - 0s 25ms/step - loss: 0.1131 - accuracy: 0.9583 - val_loss: 0.0813 - val_accuracy: 1.0000\n",
            "Epoch 53/100\n",
            "4/4 [==============================] - 0s 24ms/step - loss: 0.1105 - accuracy: 0.9667 - val_loss: 0.0789 - val_accuracy: 1.0000\n",
            "Epoch 54/100\n",
            "4/4 [==============================] - 0s 16ms/step - loss: 0.1073 - accuracy: 0.9667 - val_loss: 0.0764 - val_accuracy: 1.0000\n",
            "Epoch 55/100\n",
            "4/4 [==============================] - 0s 22ms/step - loss: 0.1046 - accuracy: 0.9583 - val_loss: 0.0721 - val_accuracy: 1.0000\n",
            "Epoch 56/100\n",
            "4/4 [==============================] - 0s 24ms/step - loss: 0.1021 - accuracy: 0.9583 - val_loss: 0.0700 - val_accuracy: 1.0000\n",
            "Epoch 57/100\n",
            "4/4 [==============================] - 0s 25ms/step - loss: 0.0995 - accuracy: 0.9583 - val_loss: 0.0685 - val_accuracy: 1.0000\n",
            "Epoch 58/100\n",
            "4/4 [==============================] - 0s 23ms/step - loss: 0.0966 - accuracy: 0.9667 - val_loss: 0.0663 - val_accuracy: 1.0000\n",
            "Epoch 59/100\n",
            "4/4 [==============================] - 0s 23ms/step - loss: 0.0951 - accuracy: 0.9667 - val_loss: 0.0645 - val_accuracy: 1.0000\n",
            "Epoch 60/100\n",
            "4/4 [==============================] - 0s 31ms/step - loss: 0.0922 - accuracy: 0.9750 - val_loss: 0.0622 - val_accuracy: 1.0000\n",
            "Epoch 61/100\n",
            "4/4 [==============================] - 0s 28ms/step - loss: 0.0900 - accuracy: 0.9750 - val_loss: 0.0602 - val_accuracy: 1.0000\n",
            "Epoch 62/100\n",
            "4/4 [==============================] - 0s 26ms/step - loss: 0.0882 - accuracy: 0.9750 - val_loss: 0.0599 - val_accuracy: 1.0000\n",
            "Epoch 63/100\n",
            "4/4 [==============================] - 0s 26ms/step - loss: 0.0861 - accuracy: 0.9750 - val_loss: 0.0587 - val_accuracy: 1.0000\n",
            "Epoch 64/100\n",
            "4/4 [==============================] - 0s 24ms/step - loss: 0.0844 - accuracy: 0.9750 - val_loss: 0.0583 - val_accuracy: 1.0000\n",
            "Epoch 65/100\n",
            "4/4 [==============================] - 0s 23ms/step - loss: 0.0828 - accuracy: 0.9750 - val_loss: 0.0571 - val_accuracy: 1.0000\n",
            "Epoch 66/100\n",
            "4/4 [==============================] - 0s 20ms/step - loss: 0.0828 - accuracy: 0.9750 - val_loss: 0.0550 - val_accuracy: 1.0000\n",
            "Epoch 67/100\n",
            "4/4 [==============================] - 0s 17ms/step - loss: 0.0800 - accuracy: 0.9750 - val_loss: 0.0537 - val_accuracy: 1.0000\n",
            "Epoch 68/100\n",
            "4/4 [==============================] - 0s 23ms/step - loss: 0.0781 - accuracy: 0.9833 - val_loss: 0.0532 - val_accuracy: 1.0000\n",
            "Epoch 69/100\n",
            "4/4 [==============================] - 0s 23ms/step - loss: 0.0766 - accuracy: 0.9750 - val_loss: 0.0524 - val_accuracy: 1.0000\n",
            "Epoch 70/100\n",
            "4/4 [==============================] - 0s 22ms/step - loss: 0.0752 - accuracy: 0.9750 - val_loss: 0.0510 - val_accuracy: 1.0000\n",
            "Epoch 71/100\n",
            "4/4 [==============================] - 0s 27ms/step - loss: 0.0739 - accuracy: 0.9833 - val_loss: 0.0498 - val_accuracy: 1.0000\n",
            "Epoch 72/100\n",
            "4/4 [==============================] - 0s 27ms/step - loss: 0.0723 - accuracy: 0.9833 - val_loss: 0.0488 - val_accuracy: 1.0000\n",
            "Epoch 73/100\n",
            "4/4 [==============================] - 0s 29ms/step - loss: 0.0714 - accuracy: 0.9833 - val_loss: 0.0484 - val_accuracy: 1.0000\n",
            "Epoch 74/100\n",
            "4/4 [==============================] - 0s 18ms/step - loss: 0.0706 - accuracy: 0.9917 - val_loss: 0.0481 - val_accuracy: 1.0000\n",
            "Epoch 75/100\n",
            "4/4 [==============================] - 0s 24ms/step - loss: 0.0694 - accuracy: 0.9833 - val_loss: 0.0457 - val_accuracy: 1.0000\n",
            "Epoch 76/100\n",
            "4/4 [==============================] - 0s 23ms/step - loss: 0.0682 - accuracy: 0.9833 - val_loss: 0.0444 - val_accuracy: 1.0000\n",
            "Epoch 77/100\n",
            "4/4 [==============================] - 0s 18ms/step - loss: 0.0672 - accuracy: 0.9833 - val_loss: 0.0433 - val_accuracy: 1.0000\n",
            "Epoch 78/100\n",
            "4/4 [==============================] - 0s 22ms/step - loss: 0.0664 - accuracy: 0.9833 - val_loss: 0.0417 - val_accuracy: 1.0000\n",
            "Epoch 79/100\n",
            "4/4 [==============================] - 0s 11ms/step - loss: 0.0654 - accuracy: 0.9833 - val_loss: 0.0409 - val_accuracy: 1.0000\n",
            "Epoch 80/100\n",
            "4/4 [==============================] - 0s 11ms/step - loss: 0.0647 - accuracy: 0.9833 - val_loss: 0.0413 - val_accuracy: 1.0000\n",
            "Epoch 81/100\n",
            "4/4 [==============================] - 0s 11ms/step - loss: 0.0636 - accuracy: 0.9833 - val_loss: 0.0415 - val_accuracy: 1.0000\n",
            "Epoch 82/100\n",
            "4/4 [==============================] - 0s 12ms/step - loss: 0.0639 - accuracy: 0.9917 - val_loss: 0.0406 - val_accuracy: 1.0000\n",
            "Epoch 83/100\n",
            "4/4 [==============================] - 0s 12ms/step - loss: 0.0618 - accuracy: 0.9917 - val_loss: 0.0394 - val_accuracy: 1.0000\n",
            "Epoch 84/100\n",
            "4/4 [==============================] - 0s 12ms/step - loss: 0.0613 - accuracy: 0.9833 - val_loss: 0.0393 - val_accuracy: 1.0000\n",
            "Epoch 85/100\n",
            "4/4 [==============================] - 0s 12ms/step - loss: 0.0613 - accuracy: 0.9833 - val_loss: 0.0385 - val_accuracy: 1.0000\n",
            "Epoch 86/100\n",
            "4/4 [==============================] - 0s 11ms/step - loss: 0.0609 - accuracy: 0.9833 - val_loss: 0.0383 - val_accuracy: 1.0000\n",
            "Epoch 87/100\n",
            "4/4 [==============================] - 0s 22ms/step - loss: 0.0591 - accuracy: 0.9833 - val_loss: 0.0379 - val_accuracy: 1.0000\n",
            "Epoch 88/100\n",
            "4/4 [==============================] - 0s 22ms/step - loss: 0.0583 - accuracy: 0.9917 - val_loss: 0.0378 - val_accuracy: 1.0000\n",
            "Epoch 89/100\n",
            "4/4 [==============================] - 0s 20ms/step - loss: 0.0580 - accuracy: 0.9917 - val_loss: 0.0372 - val_accuracy: 1.0000\n",
            "Epoch 90/100\n",
            "4/4 [==============================] - 0s 15ms/step - loss: 0.0577 - accuracy: 0.9917 - val_loss: 0.0357 - val_accuracy: 1.0000\n",
            "Epoch 91/100\n",
            "4/4 [==============================] - 0s 13ms/step - loss: 0.0575 - accuracy: 0.9833 - val_loss: 0.0345 - val_accuracy: 1.0000\n",
            "Epoch 92/100\n",
            "4/4 [==============================] - 0s 13ms/step - loss: 0.0563 - accuracy: 0.9833 - val_loss: 0.0340 - val_accuracy: 1.0000\n",
            "Epoch 93/100\n",
            "4/4 [==============================] - 0s 20ms/step - loss: 0.0561 - accuracy: 0.9833 - val_loss: 0.0333 - val_accuracy: 1.0000\n",
            "Epoch 94/100\n",
            "4/4 [==============================] - 0s 12ms/step - loss: 0.0551 - accuracy: 0.9833 - val_loss: 0.0329 - val_accuracy: 1.0000\n",
            "Epoch 95/100\n",
            "4/4 [==============================] - 0s 13ms/step - loss: 0.0548 - accuracy: 0.9917 - val_loss: 0.0327 - val_accuracy: 1.0000\n",
            "Epoch 96/100\n",
            "4/4 [==============================] - 0s 12ms/step - loss: 0.0548 - accuracy: 0.9917 - val_loss: 0.0313 - val_accuracy: 1.0000\n",
            "Epoch 97/100\n",
            "4/4 [==============================] - 0s 12ms/step - loss: 0.0536 - accuracy: 0.9917 - val_loss: 0.0313 - val_accuracy: 1.0000\n",
            "Epoch 98/100\n",
            "4/4 [==============================] - 0s 12ms/step - loss: 0.0530 - accuracy: 0.9917 - val_loss: 0.0302 - val_accuracy: 1.0000\n",
            "Epoch 99/100\n",
            "4/4 [==============================] - 0s 12ms/step - loss: 0.0526 - accuracy: 0.9917 - val_loss: 0.0304 - val_accuracy: 1.0000\n",
            "Epoch 100/100\n",
            "4/4 [==============================] - 0s 12ms/step - loss: 0.0523 - accuracy: 0.9917 - val_loss: 0.0291 - val_accuracy: 1.0000\n",
            "1/1 [==============================] - 0s 32ms/step - loss: 0.0291 - accuracy: 1.0000\n",
            "Accuracy: 1.0\n"
          ]
        }
      ]
    }
  ]
}